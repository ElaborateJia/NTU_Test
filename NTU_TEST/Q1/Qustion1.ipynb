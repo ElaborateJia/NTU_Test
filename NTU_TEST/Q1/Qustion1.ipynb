{
 "cells": [
  {
   "cell_type": "code",
   "execution_count": 1,
   "metadata": {},
   "outputs": [],
   "source": [
    "import numpy as np\n",
    "import pandas as pd"
   ]
  },
  {
   "cell_type": "code",
   "execution_count": 26,
   "metadata": {},
   "outputs": [
    {
     "ename": "SyntaxError",
     "evalue": "invalid syntax (<ipython-input-26-5907d4243b73>, line 8)",
     "output_type": "error",
     "traceback": [
      "\u001b[0;36m  File \u001b[0;32m\"<ipython-input-26-5907d4243b73>\"\u001b[0;36m, line \u001b[0;32m8\u001b[0m\n\u001b[0;31m    min_bound = diff mod /\u001b[0m\n\u001b[0m                     ^\u001b[0m\n\u001b[0;31mSyntaxError\u001b[0m\u001b[0;31m:\u001b[0m invalid syntax\n"
     ]
    }
   ],
   "source": [
    "def method(m,n,sum_num):\n",
    "    right_path = 0;\n",
    "    down_path = 0;\n",
    "    lower_bound = np.sum(range(m+1)) + n-1;\n",
    "    upper_bound = np.sum(range(m+1)) + (n-1) * m\n",
    "    if lower_bound < sum_num < upper_bound:\n",
    "        diff = sum_num - lower_bound\n",
    "        min_bound = diff // (m-1) +1;\n",
    "        max_bound = n-1;\n",
    "        \n",
    "        \n",
    "        \n",
    "            "
   ]
  },
  {
   "cell_type": "code",
   "execution_count": 4,
   "metadata": {},
   "outputs": [
    {
     "data": {
      "text/plain": [
       "10"
      ]
     },
     "execution_count": 4,
     "metadata": {},
     "output_type": "execute_result"
    }
   ],
   "source": [
    "np.sum(range(5))"
   ]
  },
  {
   "cell_type": "code",
   "execution_count": 38,
   "metadata": {},
   "outputs": [],
   "source": [
    "def partition(n,lower_bound,upper_bound, search_start=1, res=[]):\n",
    "    a = []\n",
    "    for i in range(search_start, n + 1):\n",
    "        if len(res) <= upper_bound  :\n",
    "            if n == i:\n",
    "                print(*res, n)\n",
    "                return\n",
    "            if n < i:\n",
    "                return\n",
    "            partition(n - i, lower_bound,upper_bound,search_start=i, res=res + [i])\n",
    "        else: break"
   ]
  },
  {
   "cell_type": "code",
   "execution_count": 28,
   "metadata": {},
   "outputs": [
    {
     "data": {
      "text/plain": [
       "1"
      ]
     },
     "execution_count": 28,
     "metadata": {},
     "output_type": "execute_result"
    }
   ],
   "source": [
    "6//4\n"
   ]
  },
  {
   "cell_type": "code",
   "execution_count": 39,
   "metadata": {},
   "outputs": [
    {
     "name": "stdout",
     "output_type": "stream",
     "text": [
      "1 1 1 1 1 5\n",
      "1 1 1 1 2 4\n",
      "1 1 1 1 3 3\n",
      "1 1 1 1 6\n",
      "1 1 1 2 2 3\n",
      "1 1 1 2 5\n",
      "1 1 1 3 4\n",
      "1 1 1 7\n",
      "1 1 2 2 2 2\n",
      "1 1 2 2 4\n",
      "1 1 2 3 3\n",
      "1 1 2 6\n",
      "1 1 3 5\n",
      "1 1 4 4\n",
      "1 1 8\n",
      "1 2 2 2 3\n",
      "1 2 2 5\n",
      "1 2 3 4\n",
      "1 2 7\n",
      "1 3 3 3\n",
      "1 3 6\n",
      "1 4 5\n",
      "1 9\n",
      "2 2 2 2 2\n",
      "2 2 2 4\n",
      "2 2 3 3\n",
      "2 2 6\n",
      "2 3 5\n",
      "2 4 4\n",
      "2 8\n",
      "3 3 4\n",
      "3 7\n",
      "4 6\n",
      "5 5\n",
      "10\n"
     ]
    }
   ],
   "source": [
    "partition(10,3,5)"
   ]
  },
  {
   "cell_type": "code",
   "execution_count": null,
   "metadata": {},
   "outputs": [],
   "source": []
  }
 ],
 "metadata": {
  "kernelspec": {
   "display_name": "Python 3",
   "language": "python",
   "name": "python3"
  },
  "language_info": {
   "codemirror_mode": {
    "name": "ipython",
    "version": 3
   },
   "file_extension": ".py",
   "mimetype": "text/x-python",
   "name": "python",
   "nbconvert_exporter": "python",
   "pygments_lexer": "ipython3",
   "version": "3.8.3"
  }
 },
 "nbformat": 4,
 "nbformat_minor": 4
}
