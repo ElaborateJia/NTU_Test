{
 "cells": [
  {
   "cell_type": "code",
   "execution_count": 1,
   "metadata": {},
   "outputs": [],
   "source": [
    "import pandas as pd\n",
    "import numpy as np"
   ]
  },
  {
   "cell_type": "code",
   "execution_count": 4,
   "metadata": {},
   "outputs": [
    {
     "name": "stdout",
     "output_type": "stream",
     "text": [
      "R R R B B\n",
      "R R R B B\n",
      "R R R B B\n",
      "R R B B B\n",
      "R R B B B\n"
     ]
    }
   ],
   "source": [
    "print('R R R B B')\n",
    "print('R R R B B')\n",
    "print('R R R B B')\n",
    "print('R R B B B')\n",
    "print('R R B B B')"
   ]
  },
  {
   "cell_type": "markdown",
   "metadata": {},
   "source": [
    "For two colors whose bead is (L^2-1)/2 and (L^2 + 1)/2, the strategy is first fill with one edge L(row or column), then second L(row or columns), until the ball is finished"
   ]
  },
  {
   "cell_type": "code",
   "execution_count": null,
   "metadata": {},
   "outputs": [],
   "source": []
  }
 ],
 "metadata": {
  "kernelspec": {
   "display_name": "Python 3",
   "language": "python",
   "name": "python3"
  },
  "language_info": {
   "codemirror_mode": {
    "name": "ipython",
    "version": 3
   },
   "file_extension": ".py",
   "mimetype": "text/x-python",
   "name": "python",
   "nbconvert_exporter": "python",
   "pygments_lexer": "ipython3",
   "version": "3.8.3"
  }
 },
 "nbformat": 4,
 "nbformat_minor": 4
}
